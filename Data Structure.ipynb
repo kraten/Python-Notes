{
 "cells": [
  {
   "cell_type": "markdown",
   "metadata": {
    "collapsed": true,
    "deletable": true,
    "editable": true
   },
   "source": [
    "# Stacks"
   ]
  },
  {
   "cell_type": "code",
   "execution_count": 4,
   "metadata": {
    "collapsed": false
   },
   "outputs": [
    {
     "name": "stdout",
     "output_type": "stream",
     "text": [
      "3\n",
      "[1, 2, 8]\n"
     ]
    }
   ],
   "source": [
    "stack = [1,2,3]\n",
    "s = stack.pop()\n",
    "stack.append(8)  # -->stack.push(8)\n",
    "print(s)\n",
    "print(stack)"
   ]
  },
  {
   "cell_type": "markdown",
   "metadata": {},
   "source": [
    "## Queues"
   ]
  },
  {
   "cell_type": "code",
   "execution_count": 14,
   "metadata": {
    "collapsed": false
   },
   "outputs": [
    {
     "name": "stdout",
     "output_type": "stream",
     "text": [
      "deque([2, 3])\n"
     ]
    }
   ],
   "source": [
    "from collections import deque\n",
    "queue = deque([1,2,3])\n",
    "queue.append(5)\n",
    "queue.popleft()\n",
    "queue.pop() #-----popright\n",
    "\n",
    "print(queue)"
   ]
  },
  {
   "cell_type": "markdown",
   "metadata": {},
   "source": [
    "## List Comprehensions"
   ]
  },
  {
   "cell_type": "code",
   "execution_count": 82,
   "metadata": {
    "collapsed": false
   },
   "outputs": [
    {
     "name": "stdout",
     "output_type": "stream",
     "text": [
      "[1, 4, 9, 16, 25, 36, 49, 64, 81]\n",
      "[1, 4, 9, 16, 25, 36, 49, 64, 81]\n",
      "[(1, 5), (1, 7), (1, 9), (1, 11), (4, 5), (4, 7), (4, 9), (4, 11), (7, 5), (7, 9), (7, 11), (10, 5), (10, 7), (10, 9), (10, 11)]\n",
      "[1, 4, 3, 6]\n",
      "[[1, 2, 3], [4, 5], [-5, 1, 3, 8]]\n",
      "[1, 3, 2, 5, 4, -5, 8, 3, 1]\n"
     ]
    }
   ],
   "source": [
    "square = [x*x for x in range(1,10)]\n",
    "print(square)\n",
    "\n",
    "square = [(lambda x : pow(x, 2))(x) for x in range(1,10)]\n",
    "print(square)\n",
    "\n",
    "# xyz = list(map(lambda x: x**2, range(10)))\n",
    "# print(xyz)\n",
    "\n",
    "#important\n",
    "abc = [ (x,y) for x in range(1, 12, 3) for y in range(5, 12, 2) if x!=y ]\n",
    "print(abc)\n",
    "\n",
    "vector = [1, 4, -1, 3, 6, -6]\n",
    "my_vector = [x for x in vector if x >= 0]\n",
    "print(my_vector)\n",
    "\n",
    "nested_list = [[1, 3, 2], [5, 4], [-5, 8, 3, 1]]\n",
    "sorted_nested_list = [sorted(x) for x in nested_list]\n",
    "list = [y for x in nested_list for y in x]\n",
    "print(sorted_nested_list)\n",
    "print(list)"
   ]
  },
  {
   "cell_type": "markdown",
   "metadata": {},
   "source": [
    "## the Del statement"
   ]
  },
  {
   "cell_type": "code",
   "execution_count": 92,
   "metadata": {
    "collapsed": false
   },
   "outputs": [
    {
     "name": "stdout",
     "output_type": "stream",
     "text": [
      "[2, 3, 45, 65, 78, 54, 33, 21, 43, 3476, 32, 78]\n",
      "[2, 54, 33, 21, 43, 3476, 32, 78]\n"
     ]
    }
   ],
   "source": [
    "my_list = [1,2,3,45,65,78,54,33,21,43,3476,32,78]\n",
    "del my_list[0]\n",
    "print(my_list)\n",
    "del my_list[1:5]\n",
    "print(my_list)\n",
    "del my_list\n",
    "\n"
   ]
  },
  {
   "cell_type": "markdown",
   "metadata": {},
   "source": [
    "## Tuples and Sequences"
   ]
  },
  {
   "cell_type": "code",
   "execution_count": 108,
   "metadata": {
    "collapsed": false
   },
   "outputs": [
    {
     "name": "stdout",
     "output_type": "stream",
     "text": [
      "<class 'tuple'>\n",
      "<class 'tuple'>\n",
      "(['abc', 'def'], [1, 2, True])\n",
      "2 def\n",
      "<class 'tuple'>\n",
      "1 3 3\n"
     ]
    }
   ],
   "source": [
    "#notes about tuple\n",
    "#1 tuple are immutable\n",
    "#2 \n",
    "my_tuple = (1,2,3)\n",
    "tuple_1 = 1, 2, 3\n",
    "tuple_2 = ([\"abc\", \"def\"], [1,2,True])\n",
    "\n",
    "print(type(my_tuple))\n",
    "print(type(tuple_1))\n",
    "print(tuple_2)\n",
    "print(tuple_2[1][1], tuple_2[0][1])\n",
    "\n",
    "my_tuple = 1,  #note that , after 1. so called a tuple\n",
    "print(type(my_tuple))\n",
    "\n",
    "a,b,c = (1,c,3)\n",
    "print(a, b, c)\n"
   ]
  },
  {
   "cell_type": "markdown",
   "metadata": {},
   "source": [
    "## Sets"
   ]
  },
  {
   "cell_type": "code",
   "execution_count": 147,
   "metadata": {
    "collapsed": false
   },
   "outputs": [
    {
     "name": "stdout",
     "output_type": "stream",
     "text": [
      "<class 'set'>\n",
      "{1, 2, 3}\n",
      "----------------------------------------------------------------------------------------------------\n",
      "{'b', 'a', 'j', 'd'}\n",
      "{1, 2, 3, 8, 'a', 's', 'j', 'd'}\n",
      "{'b'}\n",
      "{'a', 'j', 'd'}\n",
      "{1, 2, 3, 'b', 8, 'a', 's', 'j', 'd'}\n",
      "{1, 2, 3, 8, 'b', 's'}\n"
     ]
    }
   ],
   "source": [
    "# set is an unordered collection with no duplicate elements.\n",
    "# Used for embership testing and eliminating duplicate entries\n",
    "\n",
    "set1 = {1,2,3,1, 2, 2}\n",
    "print(type(set1))\n",
    "print(set1) # set contains no duplicate elements\n",
    "\n",
    "print(\"-\"*100)\n",
    "set1 = {x for x in \"djaajbbb\"}\n",
    "set2 = {1,3,2,8,\"s\", \"a\", \"d\", 'j'}\n",
    "print(set1)\n",
    "print(set2)\n",
    "\n",
    "set3 = set1 - set2       # letters in a but not in b\n",
    "print(set3)\n",
    "\n",
    "set3 = set1 & set2       # letters in both a and b\n",
    "print(set3)\n",
    "\n",
    "set3 = set1 | set2      # letters in either a or b\n",
    "print(set3)\n",
    "\n",
    "set3 = set1 ^ set2   # letters in a or b but not both\n",
    "print(set3)\n",
    "\n",
    "#sorted(set3)"
   ]
  },
  {
   "cell_type": "code",
   "execution_count": null,
   "metadata": {
    "collapsed": true
   },
   "outputs": [],
   "source": []
  },
  {
   "cell_type": "code",
   "execution_count": null,
   "metadata": {
    "collapsed": true
   },
   "outputs": [],
   "source": []
  }
 ],
 "metadata": {
  "kernelspec": {
   "display_name": "Python 3",
   "language": "python",
   "name": "python3"
  },
  "language_info": {
   "codemirror_mode": {
    "name": "ipython",
    "version": 3
   },
   "file_extension": ".py",
   "mimetype": "text/x-python",
   "name": "python",
   "nbconvert_exporter": "python",
   "pygments_lexer": "ipython3",
   "version": "3.5.2"
  }
 },
 "nbformat": 4,
 "nbformat_minor": 2
}
