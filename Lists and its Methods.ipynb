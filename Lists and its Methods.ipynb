{
 "cells": [
  {
   "cell_type": "markdown",
   "metadata": {
    "deletable": true,
    "editable": true
   },
   "source": [
    "# Lists and its Methods"
   ]
  },
  {
   "cell_type": "code",
   "execution_count": 53,
   "metadata": {
    "collapsed": false,
    "deletable": true,
    "editable": true,
    "scrolled": true
   },
   "outputs": [
    {
     "name": "stdout",
     "output_type": "stream",
     "text": [
      "[5, 1, 7, 5, 1, 0]\n"
     ]
    }
   ],
   "source": [
    "my_list = [5, 1, 7, 5, 1, 0]\n",
    "print(my_list)"
   ]
  },
  {
   "cell_type": "markdown",
   "metadata": {},
   "source": [
    "append -->> list.append(x)"
   ]
  },
  {
   "cell_type": "code",
   "execution_count": 54,
   "metadata": {
    "collapsed": false
   },
   "outputs": [
    {
     "name": "stdout",
     "output_type": "stream",
     "text": [
      "[5, 1, 7, 5, 1, 0, 'Jai', [1, 2]]\n"
     ]
    }
   ],
   "source": [
    "my_list = [5, 1, 7, 5, 1, 0]\n",
    "my_list.append(\"Jai\")\n",
    "my_list.append([1,2])\n",
    "print(my_list)"
   ]
  },
  {
   "cell_type": "markdown",
   "metadata": {},
   "source": [
    "extend -->> list.extend(x) where x is iterable like string or list"
   ]
  },
  {
   "cell_type": "code",
   "execution_count": 55,
   "metadata": {
    "collapsed": false
   },
   "outputs": [
    {
     "name": "stdout",
     "output_type": "stream",
     "text": [
      "[5, 1, 7, 5, 1, 0, 12, 243, 545, 'h', 'i']\n"
     ]
    }
   ],
   "source": [
    "my_list = [5, 1, 7, 5, 1, 0]\n",
    "my_list.extend([12, 243, 545])\n",
    "my_list.extend(\"hi\")\n",
    "print(my_list)\n"
   ]
  },
  {
   "cell_type": "markdown",
   "metadata": {},
   "source": [
    "insert -->> list.insert(item, value)\n",
    "\n"
   ]
  },
  {
   "cell_type": "code",
   "execution_count": 56,
   "metadata": {
    "collapsed": false
   },
   "outputs": [
    {
     "name": "stdout",
     "output_type": "stream",
     "text": [
      "[5, 1, 200, 7, 5, 1, 0]\n"
     ]
    }
   ],
   "source": [
    "my_list = [5, 1, 7, 5, 1, 0]\n",
    "my_list.insert(2, 200)\n",
    "print(my_list)"
   ]
  },
  {
   "cell_type": "markdown",
   "metadata": {},
   "source": [
    "remove -->> list.remove(value)  #comments -> remove the first item from list\n"
   ]
  },
  {
   "cell_type": "code",
   "execution_count": 57,
   "metadata": {
    "collapsed": false
   },
   "outputs": [
    {
     "name": "stdout",
     "output_type": "stream",
     "text": [
      "[1, 7, 5, 1, 0]\n"
     ]
    }
   ],
   "source": [
    "my_list = [5, 1, 7, 5, 1, 0]\n",
    "my_list.remove(5)\n",
    "print(my_list)"
   ]
  },
  {
   "cell_type": "markdown",
   "metadata": {},
   "source": [
    "pop -->> list.pop()  #comments - > last item to be removed\n"
   ]
  },
  {
   "cell_type": "code",
   "execution_count": 58,
   "metadata": {
    "collapsed": false
   },
   "outputs": [
    {
     "name": "stdout",
     "output_type": "stream",
     "text": [
      "[5, 1, 7, 5, 1]\n"
     ]
    }
   ],
   "source": [
    "my_list = [5, 1, 7, 5, 1, 0]\n",
    "my_list.pop()\n",
    "print(my_list)"
   ]
  },
  {
   "cell_type": "markdown",
   "metadata": {},
   "source": [
    "clear -->> list.clear()  #comments - > Clear all items"
   ]
  },
  {
   "cell_type": "code",
   "execution_count": 59,
   "metadata": {
    "collapsed": false
   },
   "outputs": [
    {
     "name": "stdout",
     "output_type": "stream",
     "text": [
      "[]\n"
     ]
    }
   ],
   "source": [
    "my_list = [5, 1, 7, 5, 1, 0]\n",
    "my_list.clear()\n",
    "print(my_list)"
   ]
  },
  {
   "cell_type": "markdown",
   "metadata": {},
   "source": [
    "reverse -->> list.reverse()  #comments - > resverse the items in place"
   ]
  },
  {
   "cell_type": "code",
   "execution_count": 60,
   "metadata": {
    "collapsed": false
   },
   "outputs": [
    {
     "name": "stdout",
     "output_type": "stream",
     "text": [
      "[0, 1, 5, 7, 1, 5]\n"
     ]
    }
   ],
   "source": [
    "my_list = [5, 1, 7, 5, 1, 0]\n",
    "my_list.reverse()\n",
    "print(my_list)\n",
    "\n"
   ]
  },
  {
   "cell_type": "markdown",
   "metadata": {},
   "source": [
    "count -->> list.count(item)  #comments - > count the items"
   ]
  },
  {
   "cell_type": "code",
   "execution_count": 61,
   "metadata": {
    "collapsed": false
   },
   "outputs": [
    {
     "name": "stdout",
     "output_type": "stream",
     "text": [
      "5 occurs 2 times\n"
     ]
    }
   ],
   "source": [
    "my_list = [5, 1, 7, 5, 1, 0]\n",
    "a = my_list.count(5)\n",
    "print(\"5 occurs %d times\" %a)\n",
    "\n",
    "\n"
   ]
  },
  {
   "cell_type": "markdown",
   "metadata": {},
   "source": [
    "copy -->> list.copy()  #comments - > shallow copy the items in place"
   ]
  },
  {
   "cell_type": "code",
   "execution_count": 62,
   "metadata": {
    "collapsed": false
   },
   "outputs": [
    {
     "name": "stdout",
     "output_type": "stream",
     "text": [
      "['cat', 1, 5.6, 54, True, 'dog']\n"
     ]
    }
   ],
   "source": [
    "my_list = [\"cat\", 1, 5.6, 54, True, \"dog\"]\n",
    "my_list_copy = my_list.copy()\n",
    "print(my_list_copy)"
   ]
  },
  {
   "cell_type": "markdown",
   "metadata": {},
   "source": [
    "Sorting by sort and sorted function\n",
    "sorted() returns a new sorted list, leaving the original list unaffected. \n",
    "list.sort() sorts the list in-place, mutating the list indices, and returns None. For lists list.sorted is faster\n",
    "list.sort() only works for lists, wheras sorted() method works for all iterables like lists, tuples, dictionary, string etc\n"
   ]
  },
  {
   "cell_type": "code",
   "execution_count": 63,
   "metadata": {
    "collapsed": false,
    "deletable": true,
    "editable": true
   },
   "outputs": [
    {
     "name": "stdout",
     "output_type": "stream",
     "text": [
      "[1, 2, 3, 5, 7, 9]\n",
      "[7, 3, 1, 9, 5, 2]\n",
      "[1, 2, 3, 5, 7, 9]\n"
     ]
    }
   ],
   "source": [
    "#1\n",
    "list = [7, 3, 1, 9, 5, 2]\n",
    "sorted_list = sorted(list)\n",
    "print(sorted_list)\n",
    "print(list)\n",
    "list.sort()\n",
    "print(list)\n"
   ]
  },
  {
   "cell_type": "markdown",
   "metadata": {},
   "source": [
    "\n",
    "key functions = Both have same parameters \n",
    "sorted/list.sort[key = '', reverse = Boolean]\n",
    "The value of the key parameter should be a function that takes a single argument and returns a key to use for sorting purposes"
   ]
  },
  {
   "cell_type": "code",
   "execution_count": 69,
   "metadata": {
    "collapsed": false
   },
   "outputs": [
    {
     "name": "stdout",
     "output_type": "stream",
     "text": [
      "['abc', 'ABC', 'BAG', 'xyz']\n"
     ]
    }
   ],
   "source": [
    "#2\n",
    "list = [\"xyz\", \"abc\", \"BAG\", \"ABC\"]\n",
    "list.sort(key = str.lower)\n",
    "print(list)\n"
   ]
  },
  {
   "cell_type": "code",
   "execution_count": 65,
   "metadata": {
    "collapsed": false
   },
   "outputs": [
    {
     "name": "stdout",
     "output_type": "stream",
     "text": [
      "      name        age         contact\n",
      "    Gaurav         24      9602084669\n",
      "    Deepak         22      9602084669\n",
      "       Jai         20      9602084669\n"
     ]
    }
   ],
   "source": [
    "#3\n",
    "my_tuple = [\n",
    "            (\"Deepak\", 22, \"9602084669\"),\n",
    "            (\"Jai\", 20, \"9602084669\"),\n",
    "            (\"Gaurav\", 24, \"9602084669\"),\n",
    "           ]\n",
    "#sorting on the basis of age in reverse\n",
    "my_tuple_sorted = sorted(my_tuple, key = lambda val : val[1], reverse = True)\n",
    "print(\"%010s %10s %15s\" %(\"name\", \"age\", \"contact\"))\n",
    "for tup in my_tuple_sorted:\n",
    "    print(\"%10s\" %tup[0] , end = \" \")\n",
    "    print(\"%10s\" %tup[1] , end = \" \")\n",
    "    print(\"%15s\" %tup[2])\n",
    "    \n",
    "\n"
   ]
  },
  {
   "cell_type": "markdown",
   "metadata": {},
   "source": [
    "sorting continues\n",
    "sorting by special Operator Module Functions"
   ]
  },
  {
   "cell_type": "code",
   "execution_count": 66,
   "metadata": {
    "collapsed": false,
    "deletable": true,
    "editable": true
   },
   "outputs": [
    {
     "name": "stdout",
     "output_type": "stream",
     "text": [
      "Deepak\n",
      "Gaurav\n",
      "Jai\n"
     ]
    }
   ],
   "source": [
    "from operator import itemgetter, attrgetter\n",
    "\n",
    "class student:\n",
    "    def __init__(self, name, age, contact):\n",
    "        self.name = name\n",
    "        self.age = age\n",
    "        self.contact = contact\n",
    "    def __str__(self):\n",
    "        return self.name\n",
    "\n",
    "student_list = [    \n",
    "                    student(\"Gaurav\", 24, \"4547884445454\"),\n",
    "                    student(\"Jai\", 20, \"9602084669\"), \n",
    "                    student(\"Deepak\", 22, \"895844544545\"),\n",
    "               ]\n",
    "#normal sorting\n",
    "student_list_sorted = sorted(student_list, key = lambda item : item.name)\n",
    "for student in student_list_sorted:\n",
    "    print(student)\n",
    "\n"
   ]
  },
  {
   "cell_type": "code",
   "execution_count": 67,
   "metadata": {
    "collapsed": false,
    "deletable": true,
    "editable": true
   },
   "outputs": [
    {
     "name": "stdout",
     "output_type": "stream",
     "text": [
      "Gaurav\n",
      "Deepak\n",
      "Jai\n"
     ]
    }
   ],
   "source": [
    "#by attrgetter\n",
    "student_list_sorted = sorted(student_list, key = attrgetter('age'), reverse = True)\n",
    "for student in student_list_sorted:\n",
    "    print(student)"
   ]
  },
  {
   "cell_type": "code",
   "execution_count": 68,
   "metadata": {
    "collapsed": false
   },
   "outputs": [
    {
     "name": "stdout",
     "output_type": "stream",
     "text": [
      "('Deepak', 22, '9602084669')\n",
      "('Gaurav', 24, '9602084669')\n",
      "('Jai', 20, '9602084669')\n"
     ]
    }
   ],
   "source": [
    "#by itemgetter\n",
    "my_tuple = [\n",
    "            (\"Deepak\", 22, \"9602084669\"),\n",
    "            (\"Jai\", 20, \"9602084669\"),\n",
    "            (\"Gaurav\", 24, \"9602084669\"),\n",
    "        ]\n",
    "my_tuple_sorted = sorted(my_tuple, key = itemgetter(0))\n",
    "for item in my_tuple_sorted:\n",
    "    print(item)"
   ]
  }
 ],
 "metadata": {
  "kernelspec": {
   "display_name": "Python 3",
   "language": "python",
   "name": "python3"
  },
  "language_info": {
   "codemirror_mode": {
    "name": "ipython",
    "version": 3
   },
   "file_extension": ".py",
   "mimetype": "text/x-python",
   "name": "python",
   "nbconvert_exporter": "python",
   "pygments_lexer": "ipython3",
   "version": "3.5.2"
  }
 },
 "nbformat": 4,
 "nbformat_minor": 2
}
