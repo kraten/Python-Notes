{
 "cells": [
  {
   "cell_type": "markdown",
   "metadata": {
    "deletable": true,
    "editable": true
   },
   "source": [
    "# To print the data"
   ]
  },
  {
   "cell_type": "code",
   "execution_count": 122,
   "metadata": {
    "collapsed": false,
    "deletable": true,
    "editable": true
   },
   "outputs": [
    {
     "name": "stdout",
     "output_type": "stream",
     "text": [
      "robin the brave\n",
      "gallahad the pure\n"
     ]
    }
   ],
   "source": [
    "knights = {'gallahad': 'the pure', 'robin': 'the brave'}\n",
    "for k, v in knights.items():\n",
    "    print(k, v)"
   ]
  },
  {
   "cell_type": "code",
   "execution_count": 124,
   "metadata": {
    "collapsed": false,
    "deletable": true,
    "editable": true
   },
   "outputs": [
    {
     "name": "stdout",
     "output_type": "stream",
     "text": [
      "2 3 4 5 6 7 8 9 10 "
     ]
    }
   ],
   "source": [
    "x = 1\n",
    "while x<10:\n",
    "    x = x+1\n",
    "    print(x, end = ' ')"
   ]
  },
  {
   "cell_type": "code",
   "execution_count": 5,
   "metadata": {
    "collapsed": false,
    "deletable": true,
    "editable": true
   },
   "outputs": [
    {
     "name": "stdout",
     "output_type": "stream",
     "text": [
      "\n",
      "    Hi My name is\n",
      "    Jai Singhal\n",
      "    'Hello' \n",
      "\n",
      "\n"
     ]
    }
   ],
   "source": [
    "print(\"\"\"\n",
    "    Hi My name is\n",
    "    Jai Singhal\n",
    "    'Hello' \n",
    "\n",
    "\"\"\")"
   ]
  },
  {
   "cell_type": "code",
   "execution_count": 19,
   "metadata": {
    "collapsed": false,
    "deletable": true,
    "editable": true,
    "slideshow": {
     "slide_type": "-"
    }
   },
   "outputs": [
    {
     "name": "stdout",
     "output_type": "stream",
     "text": [
      "yn 2nd_String->is Jai \n",
      "  an\n"
     ]
    }
   ],
   "source": [
    "word = \"My name is Jai Singhal\"\n",
    "print(word[1:5:2] + \" \" + \"2nd_String\" + \"->\" + word[8:15])\n",
    "print(word[2:50:5])"
   ]
  },
  {
   "cell_type": "code",
   "execution_count": 80,
   "metadata": {
    "collapsed": false,
    "deletable": true,
    "editable": true
   },
   "outputs": [
    {
     "name": "stdout",
     "output_type": "stream",
     "text": [
      "Hi Jai Singhal.Hello 5.700000\n",
      "Square of 5 is 25\n",
      "I love Python which is most Powerful and is #11 among all languages\n",
      "In 1Decimal : 60\n",
      "In 2Decimal : 60\n",
      "In lower case HexaDecimal : 3c\n",
      "In upper case HexaDecimal : 3C\n",
      "In octal : 74\n",
      "In float : 60.000000\n",
      "In Exponential : 6.000000e+01\n",
      "In lower case Exponential : 6.000000E+01\n",
      "In string : 60\n",
      "60\n",
      "Coversion of character to ascii value : A ==  65\n",
      "Coversion of ascii to character : 60 ==  <\n"
     ]
    },
    {
     "ename": "TypeError",
     "evalue": "non-empty format string passed to object.__format__",
     "output_type": "error",
     "traceback": [
      "\u001b[0;31m---------------------------------------------------------------------------\u001b[0m",
      "\u001b[0;31mTypeError\u001b[0m                                 Traceback (most recent call last)",
      "\u001b[0;32m<ipython-input-80-5adbac248ba1>\u001b[0m in \u001b[0;36m<module>\u001b[0;34m()\u001b[0m\n\u001b[1;32m     22\u001b[0m \u001b[0mprint\u001b[0m\u001b[1;33m(\u001b[0m\u001b[1;34m\"Coversion of character to ascii value : %c == \"\u001b[0m \u001b[1;33m%\u001b[0m\u001b[1;33m(\u001b[0m\u001b[0mch\u001b[0m\u001b[1;33m)\u001b[0m\u001b[1;33m,\u001b[0m \u001b[0mord\u001b[0m\u001b[1;33m(\u001b[0m\u001b[0mch\u001b[0m\u001b[1;33m)\u001b[0m\u001b[1;33m)\u001b[0m\u001b[1;33m\u001b[0m\u001b[0m\n\u001b[1;32m     23\u001b[0m \u001b[0mprint\u001b[0m\u001b[1;33m(\u001b[0m\u001b[1;34m\"Coversion of ascii to character : %d == \"\u001b[0m \u001b[1;33m%\u001b[0m\u001b[1;33m(\u001b[0m\u001b[0ma\u001b[0m\u001b[1;33m)\u001b[0m\u001b[1;33m,\u001b[0m \u001b[0mchr\u001b[0m\u001b[1;33m(\u001b[0m\u001b[0ma\u001b[0m\u001b[1;33m)\u001b[0m\u001b[1;33m)\u001b[0m\u001b[1;33m\u001b[0m\u001b[0m\n\u001b[0;32m---> 24\u001b[0;31m \u001b[1;34m\"{0:b}\"\u001b[0m\u001b[1;33m.\u001b[0m\u001b[0mformat\u001b[0m\u001b[1;33m(\u001b[0m\u001b[0mint\u001b[0m\u001b[1;33m)\u001b[0m\u001b[1;33m\u001b[0m\u001b[0m\n\u001b[0m",
      "\u001b[0;31mTypeError\u001b[0m: non-empty format string passed to object.__format__"
     ]
    }
   ],
   "source": [
    "str1 = \"Jai\"\n",
    "str2 = \"Singhal\"\n",
    "a = 5.7\n",
    "r = 5\n",
    "print(\"Hi %s %s.Hello %f\" %(str1, str2, a))\n",
    "print(\"Square of %d is %d\" %(r, r*r))\n",
    "print(\"I love %(lang)s which is most %(type)s and is #%(pos)X among all languages\" %{\"lang\":\"Python\", \"type\":\"Powerful\", \"pos\":17})\n",
    "a = 60\n",
    "print(\"In 1Decimal : %d\" %(a))\n",
    "print(\"In 2Decimal : %i\" %(a))\n",
    "print(\"In lower case HexaDecimal : %x\" %(a))\n",
    "print(\"In upper case HexaDecimal : %X\" %(a))\n",
    "\n",
    "print(\"In octal : %o\" %(a))\n",
    "print(\"In float : %f\" %(a))\n",
    "print(\"In Exponential : %e\" %(a))\n",
    "print(\"In lower case Exponential : %E\" %(a))\n",
    "\n",
    "print(\"In string : %s\" %(a))  # or str(a)\n",
    "print(ascii(a))\n",
    "ch = 'A'\n",
    "print(\"Coversion of character to ascii value : %c == \" %(ch), ord(ch))\n",
    "print(\"Coversion of ascii to character : %d == \" %(a), chr(a))\n",
    "\"{0:b}\".format(int)\n"
   ]
  },
  {
   "cell_type": "code",
   "execution_count": 56,
   "metadata": {
    "collapsed": false,
    "deletable": true,
    "editable": true,
    "scrolled": true
   },
   "outputs": [
    {
     "name": "stdout",
     "output_type": "stream",
     "text": [
      "3.6\n"
     ]
    }
   ],
   "source": [
    "class a:\n",
    "    a = 0\n",
    "    def __init__(self, x):\n",
    "        self.a = x\n",
    "    def __str__(self):\n",
    "        return str(self.a)\n",
    "b = a(3.6)\n",
    "print(b)\n"
   ]
  },
  {
   "cell_type": "markdown",
   "metadata": {
    "deletable": true,
    "editable": true
   },
   "source": [
    "# String Methods"
   ]
  },
  {
   "cell_type": "code",
   "execution_count": 24,
   "metadata": {
    "collapsed": false,
    "deletable": true,
    "editable": true
   },
   "outputs": [
    {
     "name": "stdout",
     "output_type": "stream",
     "text": [
      "--------------------------------------------Jai Singhal---------------------------------------------\n",
      "Jai singhal\n",
      "True\n",
      "True\n",
      "True\n"
     ]
    }
   ],
   "source": [
    "str1 = \"Jai Singhal\"\n",
    "print(str1.center(100,'-'))\n",
    "print(str1.capitalize())\n",
    "str = \"123\"\n",
    "print(str.isdecimal())   #checks the string is number or not\n",
    "str = \"abc\"\n",
    "print(str.isalpha()) \n",
    "str = \"Jai Singhal\"\n",
    "print(str.isspace())\n"
   ]
  },
  {
   "cell_type": "code",
   "execution_count": 9,
   "metadata": {
    "collapsed": false,
    "deletable": true,
    "editable": true
   },
   "outputs": [
    {
     "name": "stdout",
     "output_type": "stream",
     "text": [
      "Sqauare of 5.5 is : 30.25\n",
      "%s of %f is : %f {'Sqauare of', 5.5, 30.25}\n"
     ]
    }
   ],
   "source": [
    "str1 = \"Sqauare of\"\n",
    "r = 5.5\n",
    "print(str1, r, \"is :\", r*r)\n",
    "print(\"%s of %f is : %f\", {str1, r, r*r})"
   ]
  },
  {
   "cell_type": "code",
   "execution_count": 14,
   "metadata": {
    "collapsed": false,
    "deletable": true,
    "editable": true
   },
   "outputs": [
    {
     "name": "stdout",
     "output_type": "stream",
     "text": [
      "My name is Deepak Singhal. Jai is a good boy.\n",
      "24\n",
      "11\n",
      "24\n",
      "['My', 'name', 'is', 'Jai', 'Singhal.', 'Jai is a good boy.']\n",
      "2\n",
      "('My name is ', 'Jai', ' Singhal. Jai is a good boy.')\n",
      "True\n",
      "mY NAME IS jAI sINGHAL. jAI IS A GOOD BOY.\n",
      "my name is jai singhal. jai is a good boy.\n",
      "MY NAME IS JAI SINGHAL. JAI IS A GOOD BOY.\n",
      "My Name Is Jai Singhal. Jai Is A Good Boy.\n",
      "True\n",
      "42\n",
      "M  y     n  a  m  e     i  s     J  a  i     S  i  n  g  h  a  l  .     J  a  i     i  s     a     g  o  o  d     b  o  y  .\n",
      "----------------------------------------------------------------------------------------------------\n",
      "Hey There\n",
      "        Hey There\n",
      "Hey There         \n"
     ]
    }
   ],
   "source": [
    "str = \"My name is Jai Singhal. Jai is a good boy.\"\n",
    "\n",
    "print(str.replace(\"Jai\", \"Deepak\", 1))\n",
    "print(str.rfind(\"Jai\"))\n",
    "print(str.find(\"Jai\"))\n",
    "print(str.rindex(\"Jai\"))\n",
    "print(str.split(\" \", 5))  #str.split(\"sep\", maxsplit)\n",
    "print(str.count(\"Jai\"))\n",
    "print(str.partition(\"Jai\"))\n",
    "print(str.startswith(\"n\", 3, 20))\n",
    "print(str.swapcase())\n",
    "print(str.lower())\n",
    "print(str.upper())\n",
    "print(str.title())\n",
    "print(str.isprintable())\n",
    "print(len(str))\n",
    "print(\"  \".join(str))\n",
    "\n",
    "print(\"-\"*100)\n",
    "str1 = \"        Hey There         \"\n",
    "print(str1.strip())\n",
    "print(str1.rstrip())\n",
    "print(str1.lstrip())\n"
   ]
  },
  {
   "cell_type": "code",
   "execution_count": 119,
   "metadata": {
    "collapsed": false,
    "deletable": true,
    "editable": true
   },
   "outputs": [
    {
     "name": "stdout",
     "output_type": "stream",
     "text": [
      "1\n",
      "2\n",
      "name = Jai\n",
      "age = 12\n"
     ]
    }
   ],
   "source": [
    "#args and kwargs\n",
    "def fun(*args, **kwargs):\n",
    "    for item in args:\n",
    "         print(item)\n",
    "    for item, value in kwargs.items():\n",
    "        print(\"{0} = {1}\".format(item, value))\n",
    "fun(1, 2, name = \"Jai\", age = \"12\")"
   ]
  },
  {
   "cell_type": "code",
   "execution_count": 121,
   "metadata": {
    "collapsed": false,
    "deletable": true,
    "editable": true
   },
   "outputs": [
    {
     "name": "stdout",
     "output_type": "stream",
     "text": [
      "3  \n",
      "5  \n",
      "8  \n",
      "13  \n",
      "21  \n"
     ]
    }
   ],
   "source": [
    "a, b = 1, 2\n",
    "while b < 15:\n",
    "    a, b = b, a+b\n",
    "    print(b, \" \")"
   ]
  }
 ],
 "metadata": {
  "kernelspec": {
   "display_name": "Python 3",
   "language": "python",
   "name": "python3"
  },
  "language_info": {
   "codemirror_mode": {
    "name": "ipython",
    "version": 3
   },
   "file_extension": ".py",
   "mimetype": "text/x-python",
   "name": "python",
   "nbconvert_exporter": "python",
   "pygments_lexer": "ipython3",
   "version": "3.5.2"
  }
 },
 "nbformat": 4,
 "nbformat_minor": 2
}
