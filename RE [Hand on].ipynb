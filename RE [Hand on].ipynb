{
 "cells": [
  {
   "cell_type": "markdown",
   "metadata": {},
   "source": [
    "In computing, reguar expression also reffered as \"regex\" or \"regexp\", provides a consise and flexible means of matching string\n",
    "of text such as particular character, word, or pattern of string.\n",
    "A regular expression is written in a formal language that can be intepreted by regular expression processor.\n",
    "\n",
    "Really clevered \"WILD CARD\" expression for matching and parsing string."
   ]
  },
  {
   "cell_type": "raw",
   "metadata": {},
   "source": [
    "Regular Expression Quick Guide:-\n",
    "\n",
    "^\t       Matches the start of the string\n",
    "$\t       Matches the end of the string or just before the newline at the end of the string\n",
    ".\t       Matches any character except a newline\n",
    "?          Match 0 or 1 repetitions of the preceding RE. ab? will match either ‘a’ or ‘ab’.\n",
    "           Adding ? after the qualifier makes it perform the match in non-greedy or minimal fashion; as few characters as                  possible will be matched\n",
    "           \n",
    "*\t       Repeats a character zero or more times\n",
    "*?\t       Repeats a character zero or more times (non-greedy)\n",
    "+\t       Repeats a character one or more times\n",
    "+?\t       Repeats a character one or more times (non-greedy)\n",
    "[aeiou]\t   Matches a single character in the listed set\n",
    "[^XYZ]\t   Matches a single character not in the listed set\n",
    "[a-z0-9]   The set of characters can include a range\n",
    "(\t       Indicates where string extraction is to start\n",
    ")\t       Indicates where string extraction is to end\n",
    "\n",
    "Note: Non-greedy means it match minimum possible text."
   ]
  },
  {
   "cell_type": "raw",
   "metadata": {
    "collapsed": true
   },
   "source": [
    "Some More expressions:- \n",
    "\n",
    "{m}        Specifies that exactly m copies of the previous RE should be matched; fewer matches cause the entire RE not to match.\n",
    "           For example, a{6} will match exactly six 'a' characters\n",
    "    \n",
    "{m,n}      Causes the resulting RE to match from m to n repetitions of the preceding RE, attempting to match as many repetitions\n",
    "           as possible. For example, a{3,5} will match from 3 to 5 'a' characters.\n",
    "           \n",
    "'\\'        Either escapes special characters (permitting you to match characters like '*', '?', and so forth), or signals a                special sequence\n",
    "\n",
    "'|'        A|B, where A and B can be arbitrary REs, creates a regular expression that will match either A or B. Will work same              as \"or\" operator in C language"
   ]
  },
  {
   "cell_type": "raw",
   "metadata": {},
   "source": [
    "\\s       Matches whitespace\n",
    "\\S       Matches any non-whitespace character\n",
    "\n",
    "\\d       Matches any Unicode decimal digit that includes [0-9], and also many other digit characters.Matches any decimal digit;          this is equivalent to [0-9].\n",
    "\\D       Matches any character which is not a Unicode decimal digit. This is the opposite of \\d. Equivalent of [^0-9].\n",
    "\n",
    "\\w       Matches Unicode word characters as well as numbers and the underscore.[a-zA-Z0-9_] is matched \n",
    "\\W       Matches any character which is not a Unicode word character. This is the opposite of \\w. Equivalent of [^a-zA-Z0-9_]."
   ]
  },
  {
   "cell_type": "raw",
   "metadata": {},
   "source": [
    "(?=...)  Matches if ... matches next, but doesn’t consume any of the string. This is called a lookahead assertion. \n",
    "         For example, Isaac (?=Asimov) will match 'Isaac ' only if it’s followed by 'Asimov'.\n",
    "    \n",
    "(?!...)  Matches if ... doesn’t match next. This is a negative lookahead assertion. \n",
    "         For example, Isaac (?!Asimov) will match 'Isaac ' only if it’s not followed by 'Asimov'.\n"
   ]
  },
  {
   "cell_type": "code",
   "execution_count": null,
   "metadata": {
    "collapsed": true
   },
   "outputs": [],
   "source": [
    "import re\n",
    "str_ = \"My name is Jai Singhal\"\n",
    "x = re.findall(\"Jai\", str_)\n",
    "print(x)\n",
    "if re.search(\"Jai\", str_):\n",
    "    print(\"Name Found!\")"
   ]
  },
  {
   "cell_type": "code",
   "execution_count": null,
   "metadata": {
    "collapsed": true
   },
   "outputs": [],
   "source": [
    "import re\n",
    "my_para = \"\"\"X-SIEVE: CMU Sieve 2.3\n",
    "    X-DSPRAM-RESULT: Innocent\n",
    "    X-DSPRAM-Confidence: 0.8475\n",
    "    X-Content-Management-System: Test/Plain\"\"\"\n",
    "\n",
    "#Wild character \".\"\n",
    "# ^X.*:\n",
    "\n",
    "x = re.findall(\"^\\s|\\n*X.*:\", my_para)\n",
    "print(x)\n",
    "#Starting with white space character or next line character (one or more) followed by 'X' and charcters(0 or more), then ':'"
   ]
  },
  {
   "cell_type": "code",
   "execution_count": null,
   "metadata": {
    "collapsed": true
   },
   "outputs": [],
   "source": [
    "import re\n",
    "my_para = \"\"\"X-SIEVE: CMU Sieve 2.3\n",
    "    X-DSPRAM-RESULT: Innocent\n",
    "    X-DSPRAM-Confidence: 0.8475\n",
    "    X-Content-Management-System: Test/Plain\n",
    "    X-Plane is behing the sceduled\"\"\"\n",
    "\n",
    "#Wild character \".\"\n",
    "# ^X.*:\n",
    "\n",
    "x = re.findall(\"^\\s|\\n*X.*\\S:\", my_para)\n",
    "print(x)\n",
    "#Starting with white space character or next line character (one or more) followed by 'X' and charcters(0 or more).\n",
    "#No white space is allowed afterwards, then ':'"
   ]
  },
  {
   "cell_type": "code",
   "execution_count": null,
   "metadata": {
    "collapsed": true
   },
   "outputs": [],
   "source": [
    "import re\n",
    "str_ = \"My 2 favourite numbers are 19 and 420\"\n",
    "numb = re.findall(\"[0-9]+\", str_)\n",
    "print(numb)\n",
    "\n",
    "\n",
    "x = \"From: Using the: Character\"\n",
    "print(re.findall(\"^F.*:\", x))  #Greedy Matching --> largest possible string\n",
    "print(re.findall(\"^F.*?:\", x))  #Non Greedy Matching('?' is used) --> minimum possible string\n"
   ]
  },
  {
   "cell_type": "code",
   "execution_count": null,
   "metadata": {
    "collapsed": true,
    "scrolled": true
   },
   "outputs": [],
   "source": [
    "# Fine Tuning string extraction [important]\n",
    "import re\n",
    "str_ = \"From jaisinghal48@djangopy.org Sat June 5 09:04:16 2008\"\n",
    "# print email id\n",
    "email = re.findall(\"\\S+@\\S+\", str_)\n",
    "print(email)\n",
    "\n",
    "email = re.findall(\"^From (\\S+@\\S+)\", str_) #Note the space between the From and regex\n",
    "print(email)\n",
    "\n",
    "\n",
    "#Print the domain \n",
    "## \"From jaisinghal48@djangopy.org Sat June 5 09:04:16 2008\"\n",
    "## Tarika 1\n",
    "domain = str_.split(\"@\")[1]  # --> djangopy.org Sat June 5 09:04:16 2008\n",
    "domain = domain.split()[0]\n",
    "print(domain)    \n",
    "    \n",
    "## Tarika 2 \n",
    "domain = re.findall(\"@\\S+\", str_)\n",
    "print(domain[0][1:])\n",
    "\n",
    "## Tarika 3 \n",
    "domain = re.findall(\"@([^ ]*)\", str_) \n",
    "#Go for @, '(' indicated to start the extraction, check the next spaced character and stop the extraction\n",
    "print(domain)"
   ]
  },
  {
   "cell_type": "code",
   "execution_count": null,
   "metadata": {
    "collapsed": true
   },
   "outputs": [],
   "source": [
    "import re\n",
    "x = 'From: Using the : character'\n",
    "y = re.findall('^F.+:', x)\n",
    "print(y)"
   ]
  },
  {
   "cell_type": "markdown",
   "metadata": {
    "collapsed": true
   },
   "source": [
    "# Module Methods"
   ]
  },
  {
   "cell_type": "markdown",
   "metadata": {},
   "source": [
    "(I). Compile\n",
    "\n",
    "    Compile a regular expression pattern into a regular expression object, which can be used for matching using its match() and     search() methods, described below.\n",
    "    Using re.compile() and saving the resulting regular expression object for reuse is more efficient when the expression will       be used several times in a single program."
   ]
  },
  {
   "cell_type": "code",
   "execution_count": null,
   "metadata": {
    "collapsed": true
   },
   "outputs": [],
   "source": [
    "import re\n",
    "my_str = \"From the year of 2016\"\n",
    "my_regex = re.findall(\"([^0-9]*)\", my_str)\n",
    "print(my_regex)\n",
    "#result = my_regex.match(my_str)\n",
    "#print(result)"
   ]
  },
  {
   "cell_type": "markdown",
   "metadata": {},
   "source": [
    "(II) search, match\n",
    "\n",
    "    re.search(pattern, string, flags=0)\n",
    "    Scan through string looking for the first location where the regular expression pattern produces a match, and return a corresponding match object. Return None if no position in the string matches the pattern; note that this is different from finding a zero-length match at some point in the string.\n",
    "\n",
    "    re.match(pattern, string, flags=0)\n",
    "    If zero or more characters at the beginning of string match the regular expression pattern, return a corresponding match object. Return None if the string does not match the pattern; note that this is different from a zero-length match.\n",
    "    \n",
    "    The difference between both are \"match\" only search beggining of the string but \n",
    "    \"search\" searches whole string and matches"
   ]
  },
  {
   "cell_type": "code",
   "execution_count": null,
   "metadata": {
    "collapsed": true
   },
   "outputs": [],
   "source": [
    "import re\n"
   ]
  },
  {
   "cell_type": "markdown",
   "metadata": {},
   "source": [
    "\n",
    "(II). Group(), Groups() & Groupdict()\n",
    "\n",
    "    Group() == Returns one or more subgroups of the match. If there is a single argument, the result is a single string; if             there are multiple arguments, the result is a tuple with one item per argument.\n",
    "    \n",
    "    Groups() == A groups() expression returns a tuple containing all the subgroups of the match. \n",
    "    \n",
    "    Groupdict() == A groupdict() expression returns a dictionary containing all the named subgroups of the match, keyed by the subgroup name. "
   ]
  },
  {
   "cell_type": "code",
   "execution_count": null,
   "metadata": {
    "collapsed": true
   },
   "outputs": [],
   "source": [
    "import re\n",
    "match = re.search(r\"(\\w+)@(\\w+)\\.(\\w+)\", \"admin@djangopy.org\")  \n",
    "\n",
    "print(match)  \n",
    "\n",
    "#group\n",
    "print(match.group()) #Returns the entire match\n",
    "print(match.group(1)) #Returns the first match\n",
    "print(match.group(2)) #Returns the second match and so on.\n",
    "print(match.group(3))\n",
    "\n",
    "#groups\n",
    "print(match.groups()) #Returns the Tuple of match\n",
    "\n",
    "#Groupdict()\n",
    "match = re.search(r\"(?P<USER>\\w+)@(?P<DOMAIN>\\w+)\\.(?P<EXTENSION>\\w+)\", \"admin@djangopy.org\")  \n",
    "print(match.groupdict())"
   ]
  },
  {
   "cell_type": "code",
   "execution_count": null,
   "metadata": {
    "collapsed": true
   },
   "outputs": [],
   "source": [
    "#First ALPHA-NUMERIC Repeating Charcter\n",
    "import re\n",
    "str_ = input()\n",
    "if re.search(r'([0-9a-zA-Z])\\1+', str_):\n",
    "    x = re.search(r'([0-9a-zA-Z])\\1+', str_)\n",
    "    print(x.group(1))\n",
    "else:\n",
    "    print(\"-1\")"
   ]
  },
  {
   "cell_type": "markdown",
   "metadata": {},
   "source": [
    "-->> re.findall and re.finditer()\n",
    "\n",
    "re.findall()\n",
    "The expression re.findall() returns all the non-overlapping matches of patterns in a string as a list of strings. \n",
    "\n",
    "\n",
    "re.finditer()\n",
    "The expression re.finditer() returns an iterator yielding MatchObject instances over all non-overlapping matches for the re pattern in the string. \n"
   ]
  },
  {
   "cell_type": "code",
   "execution_count": null,
   "metadata": {
    "collapsed": true
   },
   "outputs": [],
   "source": [
    "#Your task is to find all the substrings of 2 that contains  or more vowels. \n",
    "#Also, these substrings must lie in between  consonants and should contain vowels only.\n",
    "\n",
    "import re\n",
    "str_ = input()\n",
    "\n",
    "def fun(x):\n",
    "    start = x.span()[0]\n",
    "    end = x.span()[1]\n",
    "    if start > 0 and end < len(str_):\n",
    "        if re.search(r'[^AEIOUaeiou]', str_[start-1]) and re.search(r'[^AEIOUaeiou]', str_[end]):\n",
    "            return x.group()\n",
    "\n",
    "\n",
    "patt = re.finditer(r'([AEIOUaeiou]{2,})', str_)\n",
    "patt= list(map(fun, patt))\n",
    "\n",
    "if len(patt) is 0:\n",
    "    print(-1)\n",
    "else:\n",
    "    for pat in patt:\n",
    "        if pat is not None:\n",
    "            print(pat)"
   ]
  },
  {
   "cell_type": "code",
   "execution_count": null,
   "metadata": {
    "collapsed": true
   },
   "outputs": [],
   "source": [
    "#ALTERNATIVE\n",
    "\n",
    "import re\n",
    "consonants = 'qwrtypsdfghjklzxcvbnm'\n",
    "vowels = 'aeiou'\n",
    "match = re.findall(r'(?<=['+consonants+'])(['+vowels+']{2,})(?=['+consonants+'])',input(),flags = re.I)\n",
    "if match:\n",
    "    for i in match:\n",
    "        print(i)\n",
    "else:\n",
    "    print(-1)"
   ]
  },
  {
   "cell_type": "raw",
   "metadata": {},
   "source": [
    "re.sub()  ##VERY IMPORTANT METHOD\n",
    "re.sub(pattern, repl, string, count=0, flags=0)\n",
    "\n",
    "Return the string obtained by replacing the leftmost non-overlapping occurrences of pattern in string by the replacement repl.\n",
    "If the pattern isn’t found, string is returned unchanged. repl can be a string or a function\n"
   ]
  },
  {
   "cell_type": "code",
   "execution_count": null,
   "metadata": {
    "collapsed": true
   },
   "outputs": [],
   "source": [
    "str_ = \"Baked Beans and Spam or Filter\"\n",
    "import re\n",
    "and_sub  = re.sub(r'and', '&', str_)\n",
    "print(and_sub)\n",
    "or_sub  = re.sub(r'or', '|', str_)\n",
    "print(or_sub)"
   ]
  },
  {
   "cell_type": "code",
   "execution_count": null,
   "metadata": {
    "collapsed": true
   },
   "outputs": [],
   "source": [
    "#Remove the comments from the html code\n",
    "html_code = \"\"\"\n",
    "<head>\n",
    "<title>HTML</title>\n",
    "</head>\n",
    "<!--This is Comment-->\n",
    "<object type=\"application/x-flash\" \n",
    "  data=\"your-file.swf\" \n",
    "  width=\"0\" height=\"0\">\n",
    "  <!-- <param name=\"movie\"  value=\"your-file.swf\" /> -->\n",
    "  <param name=\"quality\" value=\"high\"/>\n",
    "</object>\n",
    "\"\"\"\n",
    "comment_rem = re.sub('<!--.*?-->', \"\\n[[Comment Removed]]\\n\", html_code)\n",
    "print(comment_rem)"
   ]
  },
  {
   "cell_type": "code",
   "execution_count": null,
   "metadata": {
    "collapsed": true
   },
   "outputs": [],
   "source": [
    "###  You are given a text of  lines. The text contains && and || symbols. \n",
    "###  Your task is to modify those symbols to the following:\n",
    "\n",
    "###  && → and\n",
    "###  || → or\n",
    "\n",
    "import re \n",
    "\n",
    "code =\"\"\"\n",
    "a = 1;\n",
    "b = input();\n",
    "\n",
    "if a + b > 0 && a - b < 0:\n",
    "    start()\n",
    "elif a*b > 10 || a/b < 1:\n",
    "    stop()\n",
    "print set(list(a)) | set(list(b)) \n",
    "#Note do not change &&& or ||| or & or |\n",
    "#Only change those '&&' which have space on both sides.\n",
    "#Only change those '|| which have space on both sides.\n",
    "\"\"\"\n",
    "\n",
    "new_code = re.sub(r'(?<= )&{2}(?= )', 'and', code)               \n",
    "new_code = re.sub(r'(?<= )\\|{2}(?= )', 'or', new_code)\n",
    "\n",
    "print(new_code)"
   ]
  },
  {
   "cell_type": "code",
   "execution_count": 111,
   "metadata": {
    "collapsed": true
   },
   "outputs": [],
   "source": [
    "import re\n",
    "import email.utils as em\n",
    "\n",
    "\n",
    "str_ = \"vineet <vineet@gma,il.co@m>\"\n",
    "name = em.parseaddr(str_)[0]\n",
    "email = em.parseaddr(str_)[1]\n",
    "#VALIDATE EMAIL\n",
    "\n",
    "\n",
    "\n",
    "if re.search(r'(^[a-z][a-z\\.\\_\\-]+)@([a-z]+)\\.([a-z]{1,3}$)$', em.parseaddr(str_)[1], re.I):\n",
    "    print(str_)"
   ]
  },
  {
   "cell_type": "code",
   "execution_count": 98,
   "metadata": {},
   "outputs": [
    {
     "name": "stdout",
     "output_type": "stream",
     "text": [
      "2\n",
      "VIRUS <virus!@variable.:p>\n",
      "DEXTER <dexter@hotmail.com>\n",
      "DEXTER dexter@hotmail.com\n"
     ]
    }
   ],
   "source": [
    "import re\n",
    "import email.utils\n",
    "\n",
    "n = int(input())\n",
    "for i in range(0, n):\n",
    "    str_ = input()\n",
    "    name = email.utils.parseaddr(str_)[0]\n",
    "    email_id = email.utils.parseaddr(str_)[1]\n",
    "\n",
    "    #VALIDATE EMAIL\n",
    "    username = re.search(r'^([a-z\\.\\_\\-]+)@', email_id, re.I)\n",
    "    domain = re.search(r'@([a-z]+)\\.', email_id, re.I)\n",
    "    extension = re.search(r'\\.([a-z]{1,3}$)', email_id, re.I)\n",
    "    \n",
    "    if username and domain and extension:\n",
    "        print(name, email_id)"
   ]
  },
  {
   "cell_type": "code",
   "execution_count": null,
   "metadata": {
    "collapsed": true
   },
   "outputs": [],
   "source": []
  },
  {
   "cell_type": "code",
   "execution_count": null,
   "metadata": {
    "collapsed": true
   },
   "outputs": [],
   "source": [
    "#CSS HEXCODE VALIDATOR\n",
    "\n",
    "import re\n",
    "\n",
    "code = \"\"\"\n",
    "#BED\n",
    "{\n",
    "    color: #FfFdF8; background-color:#aef;\n",
    "    font-size: 123px;\n",
    "    background: -webkit-linear-gradient(top, #f9f9f9, #fff);\n",
    "}\n",
    "#Cab\n",
    "{\n",
    "    background-color: #ABC;\n",
    "    border: 2px dashed #fff;\n",
    "} \n",
    "\"\"\"\n",
    "    \n",
    "hexcode_list = re.findall(r'(#[0-9a-f]{3,})[^\\n\\{][^\\{]', code, re.I)\n",
    "for hex in hexcode_list:\n",
    "    if len(hex) == 7 or len(hex) == 4:\n",
    "        print(hex)\n"
   ]
  },
  {
   "cell_type": "markdown",
   "metadata": {},
   "source": [
    "# HTML PARSING "
   ]
  },
  {
   "cell_type": "markdown",
   "metadata": {
    "collapsed": true
   },
   "source": [
    "HTML PARSING\n",
    "An HTMLParser instance is fed HTML data and calls handler methods when start tags, end tags, text, comments, and \n",
    "other markup elements are encountered."
   ]
  },
  {
   "cell_type": "code",
   "execution_count": null,
   "metadata": {
    "collapsed": true
   },
   "outputs": [],
   "source": [
    "from html.parser import HTMLParser\n",
    "\n",
    "# create a subclass and override the handler methods\n",
    "class MyHTMLParser(HTMLParser):\n",
    "    open_tag = 0\n",
    "    close_tag = 0\n",
    "    \n",
    "    def handle_starttag(self, tag, attrs):           #START TAGS\n",
    "        self.open_tag += 1\n",
    "        print(\"Found a start tag  :\", tag, attrs)\n",
    "        \n",
    "    def handle_endtag(self, tag):                    #CLOSING TAGS\n",
    "        self.close_tag += 1\n",
    "        print(\"Found an end tag   :\", tag)\n",
    "        \n",
    "    def handle_startendtag(self, tag, attrs):        #OPEN TAGS (SELF CLOSED LIKE<br>)\n",
    "        print(\"Found an empty tag :\", tag, attrs)\n",
    "        \n",
    "    def handle_comment(self, data):                   # For handling Comments\n",
    "          print(\"Comment  :\", data)   \n",
    "            \n",
    "    def print_tag(self):\n",
    "        print(\"Total open_tags are: \", self.open_tag)\n",
    "        print(\"Total close_tags are: \", self.close_tag)\n",
    "        if(self.open_tag > self.close_tag):\n",
    "            print(\"Open Tag is greater by: \", self.open_tag - self.close_tag)\n",
    "        elif(self.open_tag < self.close_tag):\n",
    "            print(\"Close Tag is greater by: \", self.close_tag - self.open_tag)\n",
    "        else:\n",
    "            print(\"Balance number of open and close tags\")\n",
    "            \n",
    "            \n",
    "            \n",
    "# instantiate the parser and fed it some HTML\n",
    "parser = MyHTMLParser()\n",
    "parser.feed(\"\"\"<html>\n",
    "                <head>\n",
    "                <title>HTML Parser - I</title> <!-- THIS IS COMMENT -->\n",
    "                </head>\n",
    "                <body>  \n",
    "                    <div class = 'container' href = 'https://google.com'>\n",
    "                        <div class = \"row\" >\n",
    "                            <h4 font-weight:bold;>Actions</h4>\n",
    "                            <div class = \"row\">\n",
    "                                <h5>Appointments</h5> <!-- THIS IS heading -->\n",
    "                            </div>\n",
    "                        </div>\n",
    "                    </div>\n",
    "                    <h1>HackerRank</h1><br />\n",
    "                </body>\n",
    "                </html>\"\"\")\n",
    "parser.print_tag()"
   ]
  },
  {
   "cell_type": "code",
   "execution_count": 112,
   "metadata": {},
   "outputs": [
    {
     "name": "stdout",
     "output_type": "stream",
     "text": [
      "Start :  html\n",
      "Start :  head\n",
      "Start :  title\n",
      "End :  title\n",
      "End :  head\n",
      "Start :  body\n",
      "->  data-modal-target  >  None\n",
      "->  class  >  1\n",
      "Start :  h1\n",
      "End :  h1\n",
      "Empty :  br\n",
      "End :  body\n",
      "End :  html\n"
     ]
    }
   ],
   "source": [
    "from html.parser import HTMLParser\n",
    "\n",
    "# create a subclass and override the handler methods\n",
    "class MyHTMLParser(HTMLParser):\n",
    "    def handle_starttag(self, tag, attrs):\n",
    "        print(\"Start : \", tag)\n",
    "        if(attrs):\n",
    "            for attr in attrs:\n",
    "                print(\"-> \", attr[0], ' > ', attr[1])\n",
    "        \n",
    "    def handle_endtag(self, tag):\n",
    "        print(\"End : \", tag)\n",
    "             \n",
    "    def handle_startendtag(self, tag, attrs):\n",
    "        print(\"Empty : \", tag)\n",
    "        if(attrs):\n",
    "            for attr in attrs:\n",
    "                print(\"-> \", attr[0], ' > ', attr[1])\n",
    "\n",
    "# instantiate the parser and fed it some HTML\n",
    "parser = MyHTMLParser()\n",
    "\n",
    "parser.feed(\"\"\"<html><head><title>HTML Parser - I</title></head>\n",
    "<body data-modal-target class='1'><h1>HackerRank</h1><br /></body></html>\"\"\")"
   ]
  },
  {
   "cell_type": "code",
   "execution_count": 113,
   "metadata": {},
   "outputs": [
    {
     "name": "stdout",
     "output_type": "stream",
     "text": [
      "Invalid\n"
     ]
    }
   ],
   "source": [
    "# Validating Credit Card Numbers\n",
    "import re\n",
    "numb = \"0525362587961578\"\n",
    "valid1 = re.search(r'^[456][0-9]{15}$', numb)\n",
    "valid2 = re.search(r'^[456]{1}[0-9]{3}\\-([0-9]{4}\\-){2}[0-9]{4}$', numb)\n",
    "if valid2:\n",
    "    numb = re.sub(\"-\", \"\", numb)\n",
    "    valid3 = re.findall(r'(([0-9])\\2+){2,}', numb)\n",
    "    \n",
    "if valid1 or valid2 and not valid3:\n",
    "    print(\"Valid\")\n",
    "else:\n",
    "    print(\"Invalid\")"
   ]
  },
  {
   "cell_type": "code",
   "execution_count": 118,
   "metadata": {},
   "outputs": [
    {
     "name": "stdout",
     "output_type": "stream",
     "text": [
      "head\n",
      "title\n",
      "object\n",
      "->  type  >  application/x-flash\n",
      "->  data  >  your-file.swf\n",
      "->  width  >  0\n",
      "->  height  >  0\n",
      "param\n",
      "->  name  >  quality\n",
      "->  value  >  high\n"
     ]
    }
   ],
   "source": [
    "from html.parser import HTMLParser\n",
    "\n",
    "# create a subclass and override the handler methods\n",
    "class MyHTMLParser(HTMLParser):\n",
    "    def handle_starttag(self, tag, attrs):\n",
    "        print(tag)\n",
    "        if(attrs):\n",
    "            for attr in attrs:\n",
    "                print(\"-> \", attr[0], ' > ', attr[1])\n",
    "             \n",
    "    def handle_startendtag(self, tag, attrs):\n",
    "        print(tag)\n",
    "        if(attrs):\n",
    "            for attr in attrs:\n",
    "                print(\"-> \", attr[0], ' > ', attr[1])  \n",
    "# instantiate the parser and fed it some HTML\n",
    "parser = MyHTMLParser()\n",
    "\n",
    "parser.feed(\"\"\"<head>\n",
    "<title>HTML</title>\n",
    "</head>\n",
    "<object type=\"application/x-flash\" \n",
    "  data=\"your-file.swf\" \n",
    "  width=\"0\" height=\"0\">\n",
    "  <!-- <param name=\"movie\" value=\"your-file.swf\" /> -->\n",
    "  <param name=\"quality\" value=\"high\"/>\n",
    "</object>\"\"\")\n"
   ]
  },
  {
   "cell_type": "code",
   "execution_count": 8,
   "metadata": {},
   "outputs": [
    {
     "name": "stdout",
     "output_type": "stream",
     "text": [
      "<_sre.SRE_Match object; span=(1, 10), match='DO9Ee83fJ'>\n",
      "<_sre.SRE_Match object; span=(3, 10), match='9Ee83fJ'>\n",
      "<_sre.SRE_Match object; span=(0, 10), match='yDO9Ee83fJ'>\n",
      "None\n",
      "Valid\n"
     ]
    }
   ],
   "source": [
    "#Validating UID[IMPORTANT]\n",
    "import re\n",
    "uid = \"yDO9Ee83fJ\"\n",
    "validation1 = re.search(r'([A-Z].*){2}', uid)\n",
    "validation2 = re.search(r'([0-9].*){3}', uid)\n",
    "validation3 = re.search(r'[0-9a-z]{10}', uid, re.I)\n",
    "#No character should be repeated  IMPORTANT[]\n",
    "validation4 = re.search(r'.*(.).*\\1', uid)  \n",
    "print(validation1)\n",
    "print(validation2)\n",
    "print(validation3)\n",
    "print(validation4)\n",
    "if validation1 and validation2 and validation3 and not validation4:\n",
    "    print(\"Valid\")\n",
    "else:\n",
    "    print(\"Invalid\")"
   ]
  }
 ],
 "metadata": {
  "kernelspec": {
   "display_name": "Python 3",
   "language": "python",
   "name": "python3"
  },
  "language_info": {
   "codemirror_mode": {
    "name": "ipython",
    "version": 3
   },
   "file_extension": ".py",
   "mimetype": "text/x-python",
   "name": "python",
   "nbconvert_exporter": "python",
   "pygments_lexer": "ipython3",
   "version": "3.6.1"
  }
 },
 "nbformat": 4,
 "nbformat_minor": 2
}
