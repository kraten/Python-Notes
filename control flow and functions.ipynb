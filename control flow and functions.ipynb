{
 "cells": [
  {
   "cell_type": "code",
   "execution_count": 3,
   "metadata": {
    "collapsed": false,
    "deletable": true,
    "editable": true,
    "scrolled": true
   },
   "outputs": [
    {
     "name": "stdout",
     "output_type": "stream",
     "text": [
      "5 is equal to 5\n"
     ]
    }
   ],
   "source": [
    "x = 5\n",
    "if x > 5:\n",
    "    print(x, \"is greater than 5\")\n",
    "elif x == 5:\n",
    "    print(x, \"is equal to 5\")\n",
    "else:\n",
    "    print(x, \"is greater than 5\")"
   ]
  },
  {
   "cell_type": "code",
   "execution_count": 4,
   "metadata": {
    "collapsed": false,
    "deletable": true,
    "editable": true
   },
   "outputs": [
    {
     "name": "stdout",
     "output_type": "stream",
     "text": [
      "Jai\n",
      "\n",
      "for for loop\n",
      "\n",
      "J\n",
      "a\n",
      "i\n",
      " \n",
      "S\n",
      "i\n",
      "n\n",
      "g\n",
      "h\n",
      "a\n",
      "l\n",
      "1\n"
     ]
    }
   ],
   "source": [
    "x = 5\n",
    "while x < 0:\n",
    "    print(x)\n",
    "    x = x-1\n",
    "else:\n",
    "    print(\"Jai\")\n",
    "\n",
    "print(\"\\nfor for loop\\n\")    \n",
    "for i in \"Jai Singhal\":\n",
    "    print(i) \n",
    "else:\n",
    "    print(\"1\")"
   ]
  },
  {
   "cell_type": "code",
   "execution_count": 6,
   "metadata": {
    "collapsed": false,
    "deletable": true,
    "editable": true
   },
   "outputs": [
    {
     "name": "stdout",
     "output_type": "stream",
     "text": [
      "Jai 3\n",
      "is 2\n",
      "Anonymous 9\n"
     ]
    }
   ],
   "source": [
    "list = [\"Jai\", \"is\", \"Anonymous\"]\n",
    "for item in list:\n",
    "    print(item, len(item))"
   ]
  },
  {
   "cell_type": "markdown",
   "metadata": {
    "deletable": true,
    "editable": true
   },
   "source": [
    "# Function"
   ]
  },
  {
   "cell_type": "code",
   "execution_count": 18,
   "metadata": {
    "collapsed": false,
    "deletable": true,
    "editable": true
   },
   "outputs": [
    {
     "name": "stdout",
     "output_type": "stream",
     "text": [
      "Jai\n"
     ]
    }
   ],
   "source": [
    "def fun():\n",
    "    print(\"Jai\")\n",
    "fun()"
   ]
  },
  {
   "cell_type": "code",
   "execution_count": 30,
   "metadata": {
    "collapsed": false,
    "deletable": true,
    "editable": true
   },
   "outputs": [
    {
     "name": "stdout",
     "output_type": "stream",
     "text": [
      "4\n",
      "1\n",
      "4 and 1\n"
     ]
    }
   ],
   "source": [
    "# list = []\n",
    "# for i in range(3):\n",
    "#     x = input()\n",
    "#     list.append(x)\n",
    "# print(list)\n",
    "x, y = input(), input()\n",
    "print(x, \"and\", y)"
   ]
  },
  {
   "cell_type": "code",
   "execution_count": 46,
   "metadata": {
    "collapsed": false,
    "deletable": true,
    "editable": true
   },
   "outputs": [
    {
     "ename": "TypeError",
     "evalue": "add() missing 1 required positional argument: 'c'",
     "output_type": "error",
     "traceback": [
      "\u001b[0;31m---------------------------------------------------------------------------\u001b[0m",
      "\u001b[0;31mTypeError\u001b[0m                                 Traceback (most recent call last)",
      "\u001b[0;32m<ipython-input-46-7d0eb1460c0f>\u001b[0m in \u001b[0;36m<module>\u001b[0;34m()\u001b[0m\n\u001b[1;32m      6\u001b[0m     \u001b[1;32mreturn\u001b[0m \u001b[0ma\u001b[0m\u001b[1;33m+\u001b[0m\u001b[0mb\u001b[0m\u001b[1;33m+\u001b[0m\u001b[0mc\u001b[0m\u001b[1;33m\u001b[0m\u001b[0m\n\u001b[1;32m      7\u001b[0m \u001b[1;33m\u001b[0m\u001b[0m\n\u001b[0;32m----> 8\u001b[0;31m \u001b[0mprint\u001b[0m\u001b[1;33m(\u001b[0m\u001b[0madd\u001b[0m\u001b[1;33m(\u001b[0m\u001b[1;36m4\u001b[0m\u001b[1;33m,\u001b[0m\u001b[1;36m5\u001b[0m\u001b[1;33m)\u001b[0m\u001b[1;33m)\u001b[0m\u001b[1;33m\u001b[0m\u001b[0m\n\u001b[0m\u001b[1;32m      9\u001b[0m \u001b[1;31m#use *args and **kwargs instead of above arguements\u001b[0m\u001b[1;33m\u001b[0m\u001b[1;33m\u001b[0m\u001b[0m\n",
      "\u001b[0;31mTypeError\u001b[0m: add() missing 1 required positional argument: 'c'"
     ]
    }
   ],
   "source": [
    "#function overloading\n",
    "def add(a,b):\n",
    "    return a+b\n",
    " \n",
    "def add(a,b,c):\n",
    "    return a+b+c\n",
    " \n",
    "print(add(4,5))\n",
    "#use *args and **kwargs instead of above arguements"
   ]
  },
  {
   "cell_type": "code",
   "execution_count": 20,
   "metadata": {
    "collapsed": false,
    "deletable": true,
    "editable": true
   },
   "outputs": [
    {
     "name": "stdout",
     "output_type": "stream",
     "text": [
      "1\n",
      "2\n",
      "3\n",
      "4\n",
      "--------------------------------------------------\n",
      "age = 12\n",
      "sex = M\n",
      "name = Jai\n"
     ]
    }
   ],
   "source": [
    "#args and kwargs\n",
    "#args == tuple\n",
    "#kwargs == dictionary\n",
    "\n",
    "def fun(*args, **kwargs):\n",
    "    for item in args:\n",
    "         print(item)\n",
    "    print(\"-\"*50)\n",
    "    for item, value in kwargs.items():\n",
    "        print(\"{0} = {1}\".format(item, value))\n",
    "fun(1, 2, 3, 4, name = \"Jai\", age = 12, sex = \"M\")"
   ]
  },
  {
   "cell_type": "code",
   "execution_count": 53,
   "metadata": {
    "collapsed": false,
    "deletable": true,
    "editable": true
   },
   "outputs": [
    {
     "name": "stdout",
     "output_type": "stream",
     "text": [
      "[1]\n",
      "[1, 2]\n",
      "[1, 2, 3]\n",
      "[1]\n",
      "[2]\n"
     ]
    }
   ],
   "source": [
    "#Important warning: The default value is evaluated only once. \n",
    "#This makes a difference when the default is a mutable object such as a list, dictionary, \n",
    "#or instances of most classes. For example, the following function accumulates the arguments \n",
    "#passed to it on subsequent calls: \n",
    "def fun(l, a = []):\n",
    "    a.append(l)\n",
    "    return a\n",
    "#correct way is\n",
    "def f(a, L=None):\n",
    "    if L is None:\n",
    "        L = []\n",
    "    L.append(a)\n",
    "    return L\n",
    "#main\n",
    "print(fun(1))\n",
    "print(fun(2))\n",
    "print(fun(3))\n",
    "print(f(1))\n",
    "print(f(2))"
   ]
  },
  {
   "cell_type": "code",
   "execution_count": 7,
   "metadata": {
    "collapsed": false,
    "deletable": true,
    "editable": true
   },
   "outputs": [
    {
     "name": "stdout",
     "output_type": "stream",
     "text": [
      "a\n",
      "ab\n",
      "abc\n",
      "ac\n",
      "b\n",
      "bc\n",
      "c\n"
     ]
    }
   ],
   "source": [
    "#program to find subset \n",
    "res = [None]*100\n",
    "def subset(str, l, r):\n",
    "    if l > r:\n",
    "        return\n",
    "    for i in range(l, r+1):\n",
    "        res[l] = str[i]\n",
    "        for j in range(0, l+1):\n",
    "            if res[j] is not None:\n",
    "                print(res[j], end = \"\")\n",
    "        print(\"\") #\\n\n",
    "        subset(str, i+1, r)\n",
    "        res[l] = None\n",
    "\n",
    "str = \"abc\"\n",
    "subset(str, 0, len(str) - 1)"
   ]
  },
  {
   "cell_type": "code",
   "execution_count": 83,
   "metadata": {
    "collapsed": false,
    "deletable": true,
    "editable": true
   },
   "outputs": [
    {
     "name": "stdout",
     "output_type": "stream",
     "text": [
      "0\n",
      "1\n",
      "3\n",
      "6\n",
      "10\n",
      "7\n",
      "4\n",
      "8\n",
      "5\n",
      "2\n",
      "5\n",
      "9\n",
      "6\n",
      "3\n",
      "7\n",
      "4\n"
     ]
    }
   ],
   "source": [
    "def subset_sum(arr, l, r, sum):\n",
    "    if l > r:\n",
    "         return\n",
    "    print(sum)\n",
    "    for i in range(l ,r):\n",
    "        sum += arr[i];\n",
    "        subset_sum(arr, i+1, r, sum);\n",
    "        sum -= arr[i];\n",
    "\n",
    "arr = [1,2,3,4];    \n",
    "subset_sum(arr, 0, 4, 0);"
   ]
  },
  {
   "cell_type": "code",
   "execution_count": 93,
   "metadata": {
    "collapsed": false,
    "deletable": true,
    "editable": true
   },
   "outputs": [
    {
     "name": "stdout",
     "output_type": "stream",
     "text": [
      "5 5 3 4.6 True\n",
      "3 5 Hey string True\n",
      "abc 5 Hey 4.6 True\n"
     ]
    }
   ],
   "source": [
    "#kwargs\n",
    "#Functions can also be called using keyword arguments of the form kwarg=value\n",
    "def fun(a, b = 5, c = \"Hey\", d = 4.6, e = True):\n",
    "    print(a, b, c, d, e)\n",
    "#fun(b = 3) #error : No Positional arguements\n",
    "fun(5, c = 3)\n",
    "fun(d = \"string\", a = 3) #order NO Matter if we provide kwargs\n",
    "fun(a = \"abc\")"
   ]
  },
  {
   "cell_type": "code",
   "execution_count": 3,
   "metadata": {
    "collapsed": false,
    "deletable": true,
    "editable": true
   },
   "outputs": [],
   "source": [
    "def function(a):\n",
    "    pass\n",
    "function(3)"
   ]
  },
  {
   "cell_type": "code",
   "execution_count": 1,
   "metadata": {
    "collapsed": false,
    "deletable": true,
    "editable": true
   },
   "outputs": [
    {
     "name": "stdout",
     "output_type": "stream",
     "text": [
      "Live.The.Code.With...Me\n",
      "Live0The0Code0With0.0Me\n"
     ]
    }
   ],
   "source": [
    "def concat(sep='/', *args):\n",
    "    return sep.join(args)\n",
    "print(concat('.', 'Live', 'The', 'Code', 'With', '.', 'Me'))\n",
    "print(concat(\"0\", 'Live', 'The', 'Code', 'With', '.', 'Me'))"
   ]
  },
  {
   "cell_type": "code",
   "execution_count": 28,
   "metadata": {
    "collapsed": false,
    "deletable": true,
    "editable": true
   },
   "outputs": [
    {
     "name": "stdout",
     "output_type": "stream",
     "text": [
      "This parrot wouldn't VOOM if you put four million volts through it. E's bleedin' demised !\n"
     ]
    }
   ],
   "source": [
    "def parrot(voltage, state='a stiff', action='voom'):\n",
    "    print(\"This parrot wouldn't\", action, end=' ')\n",
    "    print(\"if you put\", voltage, \"volts through it.\", end=' ')\n",
    "    print(\"E's\", state, \"!\")\n",
    "\n",
    "d = {\"voltage\": \"four million\", \"state\": \"bleedin' demised\", \"action\": \"VOOM\"}\n",
    "parrot(**d)"
   ]
  },
  {
   "cell_type": "code",
   "execution_count": 8,
   "metadata": {
    "collapsed": false,
    "deletable": true,
    "editable": true
   },
   "outputs": [
    {
     "name": "stdout",
     "output_type": "stream",
     "text": [
      "6\n",
      "55658660236\n"
     ]
    }
   ],
   "source": [
    "#lambda functions\n",
    "\n",
    "a = lambda x, y : x+y\n",
    "print(a(2,4))\n",
    "print((lambda x, y, z : x*y + z)(10055, 5535356, 655656))"
   ]
  },
  {
   "cell_type": "code",
   "execution_count": 18,
   "metadata": {
    "collapsed": false,
    "deletable": true,
    "editable": true
   },
   "outputs": [
    {
     "name": "stdout",
     "output_type": "stream",
     "text": [
      "[(1, 'one'), (2, 'Two'), (3, 'Three'), (4, 'Four'), (5, 'Five'), (6, 'six')]\n"
     ]
    }
   ],
   "source": [
    "#!important\n",
    "tuple_list = [(3, \"Three\"), (5, \"Five\"), (1, \"one\"), (4, \"Four\"), (6, \"six\"), (2, \"Two\")]\n",
    "#sort the list according to 1st key element\n",
    "tuple_list.sort(key = lambda x:x[0])\n",
    "print(tuple_list)"
   ]
  },
  {
   "cell_type": "code",
   "execution_count": 24,
   "metadata": {
    "collapsed": false,
    "deletable": true,
    "editable": true
   },
   "outputs": [
    {
     "name": "stdout",
     "output_type": "stream",
     "text": [
      "Hi There!!\n",
      "        My name is Jai SInghal\n",
      "        Welcome to the world of Python Programming\n",
      "                                        Language\n",
      "                           Django\n",
      "                        Pyqty\n",
      "                    selenium\n",
      "                web scrapping\n",
      "            Machine Learning\n",
      "                \n",
      "    \n"
     ]
    }
   ],
   "source": [
    "#Documented Strings\n",
    "def func():\n",
    "    \"\"\"Hi There!!\n",
    "        My name is Jai SInghal\n",
    "        Welcome to the world of Python Programming\n",
    "                                        Language\n",
    "                           Django\n",
    "                        Pyqty\n",
    "                    selenium\n",
    "                web scrapping\n",
    "            Machine Learning\n",
    "                \n",
    "    \"\"\"\n",
    "    pass\n",
    "print(func.__doc__)    "
   ]
  },
  {
   "cell_type": "code",
   "execution_count": null,
   "metadata": {
    "collapsed": true,
    "deletable": true,
    "editable": true
   },
   "outputs": [],
   "source": []
  }
 ],
 "metadata": {
  "kernelspec": {
   "display_name": "Python 3",
   "language": "python",
   "name": "python3"
  },
  "language_info": {
   "codemirror_mode": {
    "name": "ipython",
    "version": 3
   },
   "file_extension": ".py",
   "mimetype": "text/x-python",
   "name": "python",
   "nbconvert_exporter": "python",
   "pygments_lexer": "ipython3",
   "version": "3.5.2"
  }
 },
 "nbformat": 4,
 "nbformat_minor": 2
}
